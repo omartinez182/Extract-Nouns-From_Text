{
 "cells": [
  {
   "cell_type": "markdown",
   "metadata": {},
   "source": [
    "# Function To Ensure Test Set Is Representative Using Random Forests"
   ]
  },
  {
   "cell_type": "markdown",
   "metadata": {},
   "source": [
    "This function uses cross-validation and a random forest model to assess if a test set is representative of the train data."
   ]
  },
  {
   "cell_type": "code",
   "execution_count": 50,
   "metadata": {},
   "outputs": [],
   "source": [
    "def datarep(X_train, X_test):\n",
    "    \"\"\"\n",
    "    This function uses cross-validation and a random forest model\n",
    "    to assess if our test set is representative of our train data.\n",
    "    \"\"\"\n",
    "    #Add new column with the 'classes'\n",
    "    X_train['Train_or_Test'] = 1\n",
    "    X_test['Train_or_Test'] = 0\n",
    "    \n",
    "    #Concatenate both sets\n",
    "    concat_df = pd.concat([X_train, X_test], axis=0)\n",
    "\n",
    "    #Create new target variable\n",
    "    import numpy as np\n",
    "    y = concat_df.pop('Train_or_Test')\n",
    "    y = y.astype(np.float32)\n",
    "\n",
    "    #Instantiate the classifier and train the model\n",
    "    from sklearn.ensemble import RandomForestClassifier\n",
    "    random_forest = RandomForestClassifier(n_estimators = 500, random_state = 42)\n",
    "    random_forest.fit(concat_df, y)\n",
    "\n",
    "    #Implement cross-validation and print the result\n",
    "    #If each score is near 0.5 it means our data is well represented\n",
    "    from sklearn.model_selection import cross_val_score\n",
    "    cfrep = cross_val_score(random_forest, concat_df, y, cv=5, scoring='roc_auc')\n",
    "    return cfrep"
   ]
  },
  {
   "cell_type": "markdown",
   "metadata": {},
   "source": [
    "## Example:"
   ]
  },
  {
   "cell_type": "markdown",
   "metadata": {},
   "source": [
    "Let's start by loading the dataset."
   ]
  },
  {
   "cell_type": "code",
   "execution_count": 51,
   "metadata": {},
   "outputs": [
    {
     "name": "stdout",
     "output_type": "stream",
     "text": [
      "X Shape : (1797, 64)\n"
     ]
    }
   ],
   "source": [
    "from sklearn.datasets import load_digits\n",
    "\n",
    "#Load dataset\n",
    "X, y = load_digits(return_X_y=True)\n",
    "\n",
    "print(\"X Shape :\", X.shape)"
   ]
  },
  {
   "cell_type": "markdown",
   "metadata": {},
   "source": [
    "Now let's split the dataset into train and test sets."
   ]
  },
  {
   "cell_type": "code",
   "execution_count": 52,
   "metadata": {},
   "outputs": [
    {
     "name": "stdout",
     "output_type": "stream",
     "text": [
      "X_train shape : (1437, 64)\n",
      "X_test shape : (360, 64)\n"
     ]
    }
   ],
   "source": [
    "from sklearn.model_selection import train_test_split\n",
    "import pandas as pd\n",
    "\n",
    "#Split into train and test sets\n",
    "X_train, X_test, y_train, y_test = train_test_split(X, y, test_size=0.20, random_state=42)\n",
    "\n",
    "#Convert numpy arrays into dataframes\n",
    "X_train = pd.DataFrame(X_train)\n",
    "X_test = pd.DataFrame(X_test)\n",
    "\n",
    "print(\"X_train shape :\", X_train.shape)\n",
    "print(\"X_test shape :\", X_test.shape)"
   ]
  },
  {
   "cell_type": "markdown",
   "metadata": {},
   "source": [
    "We can now pass both the X_train and X_test sets to the function to assure representativeness."
   ]
  },
  {
   "cell_type": "code",
   "execution_count": 53,
   "metadata": {},
   "outputs": [
    {
     "data": {
      "text/plain": [
       "array([0.5382909 , 0.5289593 , 0.55299071, 0.56414537, 0.4571235 ])"
      ]
     },
     "execution_count": 53,
     "metadata": {},
     "output_type": "execute_result"
    }
   ],
   "source": [
    "datarep(X_train, X_test)"
   ]
  },
  {
   "cell_type": "markdown",
   "metadata": {},
   "source": [
    "To make sure the test group is representative, the score you see should be ~0.5 across the five cv rounds."
   ]
  },
  {
   "cell_type": "markdown",
   "metadata": {},
   "source": [
    "### The End"
   ]
  }
 ],
 "metadata": {
  "kernelspec": {
   "display_name": "Python 3",
   "language": "python",
   "name": "python3"
  },
  "language_info": {
   "codemirror_mode": {
    "name": "ipython",
    "version": 3
   },
   "file_extension": ".py",
   "mimetype": "text/x-python",
   "name": "python",
   "nbconvert_exporter": "python",
   "pygments_lexer": "ipython3",
   "version": "3.7.3"
  }
 },
 "nbformat": 4,
 "nbformat_minor": 4
}
